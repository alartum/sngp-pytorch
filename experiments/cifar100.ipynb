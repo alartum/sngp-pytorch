{
 "cells": [
  {
   "cell_type": "code",
   "execution_count": 1,
   "metadata": {},
   "outputs": [],
   "source": [
    "# show C-level stderr/stdout\n",
    "%load_ext lab_black\n",
    "%load_ext wurlitzer\n",
    "%load_ext autoreload\n",
    "%autoreload 2"
   ]
  },
  {
   "cell_type": "code",
   "execution_count": 2,
   "metadata": {},
   "outputs": [],
   "source": [
    "from torchinfo import summary\n",
    "import matplotlib.pyplot as plt\n",
    "import matplotlib.colors as colors\n",
    "import numpy as np\n",
    "import torch\n",
    "import torch.nn as nn"
   ]
  },
  {
   "cell_type": "code",
   "execution_count": 3,
   "metadata": {},
   "outputs": [],
   "source": [
    "from torch.nn.utils import spectral_norm\n",
    "\n",
    "\n",
    "def apply_spectral_norm(module, name=\"model\"):\n",
    "    for child_name, child in module.named_children():\n",
    "        apply_spectral_norm(child, child_name)\n",
    "        child_ref = getattr(module, child_name)\n",
    "        if isinstance(child_ref, (nn.Linear, nn.Conv1d, nn.Conv2d, nn.Conv3d)):\n",
    "            print(f\"  {name}.{child_name} ({type(child_ref)})\")\n",
    "            setattr(module, child_name, spectral_norm(child_ref))"
   ]
  },
  {
   "cell_type": "code",
   "execution_count": 20,
   "metadata": {},
   "outputs": [],
   "source": [
    "import hydra\n",
    "from hydra.core.global_hydra import GlobalHydra\n",
    "\n",
    "GlobalHydra.instance().clear()\n",
    "hydra.initialize(config_path=\"config\")\n",
    "cfg = hydra.compose(\n",
    "    \"images_finetune.yaml\",\n",
    "    overrides=[\"trainer=gpu\", \"data=cifar100_custom\", \"model=resnet50_pretrained\"],\n",
    ")"
   ]
  },
  {
   "cell_type": "code",
   "execution_count": 4,
   "metadata": {},
   "outputs": [],
   "source": [
    "from sngp_pytorch.models import LitPretrainedRFGP\n",
    "from hydra.utils import to_absolute_path\n",
    "from pathlib import Path\n",
    "\n",
    "checkpoint = \"CIFAR100CustomDataModule-epoch=194-val_loss=0.000000.ckpt\"\n",
    "model_saved = to_absolute_path(Path(\"models\", checkpoint))\n",
    "model = LitPretrainedRFGP.load_from_checkpoint(model_saved)\n",
    "\n",
    "if torch.cuda.is_available():\n",
    "    USE_GPU = True\n",
    "\n",
    "if USE_GPU:\n",
    "    model.cuda()\n",
    "model.eval()\n",
    "model.model.update_covariance()"
   ]
  },
  {
   "cell_type": "code",
   "execution_count": 5,
   "metadata": {},
   "outputs": [],
   "source": [
    "from torchvision.datasets.svhn import SVHN\n",
    "from torchvision.datasets.cifar import CIFAR10\n",
    "from image_uncertainty.datasets.smooth_random import SmoothRandom\n",
    "from image_uncertainty.cifar.cifar_datasets import LocalImageDataset\n",
    "from os.path import join\n",
    "\n",
    "DATA_DIR = to_absolute_path(\"data\")\n",
    "\n",
    "\n",
    "def get_external_dataset(ood_name, transform_test):\n",
    "\n",
    "    if ood_name == \"svhn\":\n",
    "        test_dataset = SVHN(\n",
    "            DATA_DIR, split=\"test\", download=True, transform=transform_test\n",
    "        )\n",
    "    elif ood_name == \"lsun\":\n",
    "        test_dataset = LocalImageDataset(\n",
    "            join(DATA_DIR, \"LSUN_resize\", \"test\"), transform_test\n",
    "        )\n",
    "    elif ood_name == \"isun\":\n",
    "        test_dataset = LocalImageDataset(join(DATA_DIR, \"iSUN\", \"test\"), transform_test)\n",
    "    elif ood_name == \"cifar10\":\n",
    "        test_dataset = CIFAR10(\n",
    "            DATA_DIR, train=False, download=True, transform=transform_test\n",
    "        )\n",
    "    elif ood_name == \"smooth\":\n",
    "        test_dataset = SmoothRandom(transform_test)\n",
    "    else:\n",
    "        raise ValueError(ood_name)\n",
    "\n",
    "    return test_dataset"
   ]
  },
  {
   "cell_type": "code",
   "execution_count": 6,
   "metadata": {},
   "outputs": [],
   "source": [
    "import torchvision\n",
    "import torchvision.transforms as transforms\n",
    "from torch.utils.data import DataLoader\n",
    "from torch.utils.data.sampler import SequentialSampler\n",
    "\n",
    "\n",
    "def get_test_dataloader(\n",
    "    mean=(0.4914, 0.4822, 0.4465),\n",
    "    std=(0.2023, 0.1994, 0.2010),\n",
    "    batch_size=16,\n",
    "    num_workers=2,\n",
    "    shuffle=True,\n",
    "    ood=False,\n",
    "    ood_name=\"vehicles\",\n",
    "    subsample=None,\n",
    "    seed=42,\n",
    "):\n",
    "    transform_test = transforms.Compose(\n",
    "        [transforms.ToTensor(), transforms.Normalize(mean, std)]\n",
    "    )\n",
    "    torch.manual_seed(seed)\n",
    "\n",
    "    if ood and ood_name in [\"svhn\", \"cifar10\", \"lsun\", \"isun\", \"smooth\"]:\n",
    "        test_dataset = get_external_dataset(ood_name, transform_test)\n",
    "    else:\n",
    "        test_dataset = torchvision.datasets.CIFAR100(\n",
    "            root=DATA_DIR, train=False, download=True, transform=transform_test\n",
    "        )\n",
    "\n",
    "    if subsample:\n",
    "        sampler = SequentialSampler(np.arange(subsample))\n",
    "    else:\n",
    "        sampler = None\n",
    "\n",
    "    test_loader = DataLoader(\n",
    "        test_dataset,\n",
    "        shuffle=shuffle,\n",
    "        num_workers=num_workers,\n",
    "        batch_size=batch_size,\n",
    "        sampler=sampler,\n",
    "        pin_memory=True,\n",
    "    )\n",
    "\n",
    "    return test_loader"
   ]
  },
  {
   "cell_type": "code",
   "execution_count": 14,
   "metadata": {},
   "outputs": [],
   "source": [
    "from tqdm.auto import tqdm\n",
    "from sngp_pytorch.utils import mean_field_logits, dempster_shafer_uncertainty\n",
    "\n",
    "\n",
    "def get_uncertainty(dataloader, model, verbose=True, mean_field_factor=1.0):\n",
    "    uncs = []\n",
    "\n",
    "    for X, _ in tqdm(dataloader, total=len(dataloader), disable=not verbose):\n",
    "        if USE_GPU:\n",
    "            X = X.cuda()\n",
    "        logits, covs = model(X, with_variance=True)\n",
    "        logits = logits.detach().cpu()\n",
    "        covs = covs.detach().cpu()\n",
    "        # print(covs.min(), covs.max(), covs.mean())\n",
    "        logits = mean_field_logits(logits, covs, mean_field_factor)\n",
    "        unc = dempster_shafer_uncertainty(logits)\n",
    "\n",
    "        uncs.append(unc)\n",
    "\n",
    "    uncs = torch.concat(uncs)\n",
    "    return uncs.detach().cpu().numpy()"
   ]
  },
  {
   "cell_type": "code",
   "execution_count": 35,
   "metadata": {},
   "outputs": [
    {
     "name": "stdout",
     "output_type": "stream",
     "text": [
      "Files already downloaded and verified\n"
     ]
    },
    {
     "data": {
      "application/vnd.jupyter.widget-view+json": {
       "model_id": "a9f5761b34c34acc889bb4b15a621e6f",
       "version_major": 2,
       "version_minor": 0
      },
      "text/plain": [
       "  0%|          | 0/79 [00:00<?, ?it/s]"
      ]
     },
     "metadata": {},
     "output_type": "display_data"
    },
    {
     "name": "stdout",
     "output_type": "stream",
     "text": [
      "Using downloaded and verified file: /gpfs/data/gpfs0/a.artemenkov/git/sngp-pytorch/experiments/data/test_32x32.mat\n"
     ]
    },
    {
     "data": {
      "application/vnd.jupyter.widget-view+json": {
       "model_id": "642cbc13f9fd4fba9eb77480c93e5b4a",
       "version_major": 2,
       "version_minor": 0
      },
      "text/plain": [
       "  0%|          | 0/204 [00:00<?, ?it/s]"
      ]
     },
     "metadata": {},
     "output_type": "display_data"
    },
    {
     "name": "stdout",
     "output_type": "stream",
     "text": [
      "10000 images loaded\n"
     ]
    },
    {
     "data": {
      "application/vnd.jupyter.widget-view+json": {
       "model_id": "ca46ff2f7f114de2b066c51cc489957c",
       "version_major": 2,
       "version_minor": 0
      },
      "text/plain": [
       "  0%|          | 0/79 [00:00<?, ?it/s]"
      ]
     },
     "metadata": {},
     "output_type": "display_data"
    },
    {
     "data": {
      "application/vnd.jupyter.widget-view+json": {
       "model_id": "bd50f5b790974623a66744ac2b24f62b",
       "version_major": 2,
       "version_minor": 0
      },
      "text/plain": [
       "  0%|          | 0/79 [00:00<?, ?it/s]"
      ]
     },
     "metadata": {},
     "output_type": "display_data"
    }
   ],
   "source": [
    "CIFAR100_TRAIN_MEAN = (0.5070751592371323, 0.48654887331495095, 0.4409178433670343)\n",
    "CIFAR100_TRAIN_STD = (0.2673342858792401, 0.2564384629170883, 0.27615047132568404)\n",
    "MEAN_FIELD_FACTOR = 1e9\n",
    "\n",
    "ues_all_path = to_absolute_path(Path(\"data\", \"cifar100\", \"ues_all.npz\"))\n",
    "try:\n",
    "    ues_all = np.load(ues_all_path)\n",
    "except FileNotFoundError:\n",
    "    ues_all = {}\n",
    "    for name in [\"cifar100\", \"svhn\", \"lsun\", \"smooth\"]:\n",
    "        is_ood = name != \"cifar100\"\n",
    "        dataloader = get_test_dataloader(\n",
    "            mean=CIFAR100_TRAIN_MEAN,\n",
    "            std=CIFAR100_TRAIN_STD,\n",
    "            ood_name=name,\n",
    "            ood=is_ood,\n",
    "            batch_size=128,\n",
    "            shuffle=False,\n",
    "            num_workers=0,\n",
    "        )\n",
    "        ues_all[name] = get_uncertainty(\n",
    "            dataloader, model, mean_field_factor=MEAN_FIELD_FACTOR\n",
    "        )\n",
    "    np.savez(ues_all_path, **ues_all)"
   ]
  },
  {
   "cell_type": "code",
   "execution_count": 36,
   "metadata": {},
   "outputs": [
    {
     "data": {
      "application/vnd.jupyter.widget-view+json": {
       "model_id": "ff0f98dad87f448499bd7649c0ffb60f",
       "version_major": 2,
       "version_minor": 0
      },
      "text/plain": [
       "  0%|          | 0/3 [00:00<?, ?it/s]"
      ]
     },
     "metadata": {},
     "output_type": "display_data"
    },
    {
     "name": "stdout",
     "output_type": "stream",
     "text": [
      "OOD ROC AUC 0.873\n",
      "OOD ROC AUC 0.845\n",
      "OOD ROC AUC 0.627\n"
     ]
    },
    {
     "data": {
      "image/png": "[encoded data removed]",
      "text/plain": [
       "<Figure size 648x504 with 1 Axes>"
      ]
     },
     "metadata": {
      "needs_background": "light"
     },
     "output_type": "display_data"
    },
    {
     "data": {
      "image/png": "[encoded data removed]",
      "text/plain": [
       "<Figure size 648x504 with 1 Axes>"
      ]
     },
     "metadata": {
      "needs_background": "light"
     },
     "output_type": "display_data"
    },
    {
     "data": {
      "image/png": "[encoded data removed]",
      "text/plain": [
       "<Figure size 648x504 with 1 Axes>"
      ]
     },
     "metadata": {
      "needs_background": "light"
     },
     "output_type": "display_data"
    }
   ],
   "source": [
    "from metrics import uncertainty_plot\n",
    "\n",
    "for name in tqdm([\"SVHN\", \"LSUN\", \"smooth\"]):\n",
    "    uncertainty_plot(\n",
    "        ues_all[\"cifar100\"],\n",
    "        ues_all[name.lower()],\n",
    "        directory=join(DATA_DIR, \"cifar100\"),\n",
    "        file_name=f\"cifar100_ood_{name.lower()}\",\n",
    "        title=f\"Uncertainty ({name})\",\n",
    "    )"
   ]
  },
  {
   "cell_type": "code",
   "execution_count": null,
   "metadata": {},
   "outputs": [],
   "source": []
  }
 ],
 "metadata": {
  "interpreter": {
   "hash": "29e86d96dfeb2f0301c32c601d634a5cc47cef025bfb1a12a67d15c3c7ee3e32"
  },
  "kernelspec": {
   "display_name": "Python 3.8.12 64-bit ('pytorch-env': conda)",
   "language": "python",
   "name": "python3"
  },
  "language_info": {
   "codemirror_mode": {
    "name": "ipython",
    "version": 3
   },
   "file_extension": ".py",
   "mimetype": "text/x-python",
   "name": "python",
   "nbconvert_exporter": "python",
   "pygments_lexer": "ipython3",
   "version": "3.8.12"
  },
  "orig_nbformat": 4
 },
 "nbformat": 4,
 "nbformat_minor": 2
}
